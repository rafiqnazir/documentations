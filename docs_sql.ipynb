{
 "cells": [
  {
   "cell_type": "markdown",
   "id": "0662f561",
   "metadata": {},
   "source": [
    "## Create Stored Proc"
   ]
  },
  {
   "cell_type": "raw",
   "id": "0f08e573",
   "metadata": {},
   "source": [
    "CREATE PROCEDURE [dbo].[stored_proc_name]\n",
    "(\n",
    "@variable_name varchar(50)=default_value,\n",
    ")\n",
    "\n",
    "AS\n",
    "BEGIN\n",
    "    SET NOCOUNT ON;\n",
    "    SET TRANSACTION ISOLATION LEVEL READ UNCOMMITTED;\n",
    "END"
   ]
  },
  {
   "cell_type": "markdown",
   "id": "b3ffa666",
   "metadata": {},
   "source": [
    "## Insert Code in Stored Proc\n",
    "\n"
   ]
  },
  {
   "cell_type": "raw",
   "id": "49656079",
   "metadata": {},
   "source": [
    "IF EXISTS (SELECT 1 FROM table_name WHERE column1=@var1 AND column2=@var2)\n",
    "    BEGIN\n",
    "        UPDATE table_name Set [col1]=@var1, [col2]=@var2\n",
    "    END\n",
    "ELSE\n",
    "     BEGIN\n",
    "        INSERT into table_name values(@val1,@val2)\n",
    "    END"
   ]
  },
  {
   "cell_type": "markdown",
   "id": "6d3e1184",
   "metadata": {},
   "source": [
    "## Get Code in Stored Proc"
   ]
  },
  {
   "cell_type": "raw",
   "id": "641c8d82",
   "metadata": {},
   "source": [
    "DECLARE @qry varchar(max)='Select * from '+@table_name+' where col1='''+@var1+''''"
   ]
  },
  {
   "cell_type": "markdown",
   "id": "aa3b3700",
   "metadata": {},
   "source": [
    "## Create an index"
   ]
  },
  {
   "cell_type": "raw",
   "id": "5269a123",
   "metadata": {},
   "source": [
    "CREATE INDEX index1 ON table1 (column1,column2);"
   ]
  },
  {
   "cell_type": "markdown",
   "id": "c3905b88",
   "metadata": {},
   "source": [
    "## GET All Indexes of a table"
   ]
  },
  {
   "cell_type": "raw",
   "id": "4920a818",
   "metadata": {},
   "source": [
    "EXEC sp_helpindex 'table_name'"
   ]
  },
  {
   "cell_type": "markdown",
   "id": "588cdb96",
   "metadata": {},
   "source": [
    "## Get all matching tables"
   ]
  },
  {
   "cell_type": "raw",
   "id": "e1e226be",
   "metadata": {},
   "source": [
    "select top 100 TABLE_NAME FROM INFORMATION_SCHEMA.TABLES WHERE TABLE_NAME like '%derived%'\n"
   ]
  },
  {
   "cell_type": "code",
   "execution_count": null,
   "id": "e6e65ddd",
   "metadata": {},
   "outputs": [],
   "source": [
    "\n",
    "select @on_query  = coalesce(@on_query  + ' AND ', '') + \n",
    "        convert(varchar(MAX),@table_name+'.'+c.column_name)\t FROM\n",
    "        INFORMATION_SCHEMA.TABLE_CONSTRAINTS T  \n",
    "        JOIN INFORMATION_SCHEMA.CONSTRAINT_COLUMN_USAGE C  \n",
    "        ON C.CONSTRAINT_NAME=T.CONSTRAINT_NAME  \n",
    "        WHERE  C.TABLE_NAME=@table_name  and T.CONSTRAINT_TYPE='PRIMARY KEY'\n",
    "\n",
    "\n",
    "\n"
   ]
  }
 ],
 "metadata": {
  "kernelspec": {
   "display_name": "Python 3 (ipykernel)",
   "language": "python",
   "name": "python3"
  },
  "language_info": {
   "codemirror_mode": {
    "name": "ipython",
    "version": 3
   },
   "file_extension": ".py",
   "mimetype": "text/x-python",
   "name": "python",
   "nbconvert_exporter": "python",
   "pygments_lexer": "ipython3",
   "version": "3.9.7"
  }
 },
 "nbformat": 4,
 "nbformat_minor": 5
}
