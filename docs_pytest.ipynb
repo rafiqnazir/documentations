{
 "cells": [
  {
   "cell_type": "markdown",
   "id": "7f8efbaa",
   "metadata": {},
   "source": [
    "1. The pytest test runner is called using the following command in project source,\n",
    "> py.test\n",
    "\n",
    "2. pytest looks for test files in all the locations inside the project directory\n",
    "3. Any file with name starting with “test_” or ending with “_test” is considered a test file in the pytest terminology\n",
    "4. similar to unittest, pytest requires all test names to start with “test”."
   ]
  },
  {
   "cell_type": "markdown",
   "id": "5202ec17",
   "metadata": {},
   "source": [
    "## Here are a few more basic customisations that come with pytest.\n",
    "\n",
    "1. Running specific test files:\n",
    "- To run only a specific test file, use the command,\n",
    "> py.test filename\n",
    "    \n",
    "2. Substring matching:\n",
    "- Suppose we want to test only specific methods, we can do this using substring matching as follows,\n",
    "py.test -k \"area\"\n",
    "With this command pytest will execute only those tests which have the string “area” in their names, i.e. “test_file1_area()”, “test_area()” etc.\n",
    "\n",
    "3. Marking:\n",
    "- As a substitute to substring matching, marking is another method using which we can run a specific set of tests. In this method we put a mark on the tests we want to run. Observe the code example given below\n",
    "```python\n",
    "#@pytest.mark.<tag_name>\n",
    "@pytest.mark.area     \n",
    "def test_file1_area():\n",
    "    sq = app.Square(2)\n",
    "    assert sq.area() == 4, \n",
    "        f\"area for side {sq.side} units is {sq.area()}\"\n",
    "    \n",
    "- In the above code example test_file1_area() is marked with tag “area”. All the test methods which have been marked with some tag can be executed by using the command:\n",
    "\n",
    "```python\n",
    "py.test -m tag_name\n",
    " \n",
    "```\n",
    "\n",
    "4. @pytest.mark.parametrize: parametrizing test functions\n",
    "- The builtin pytest.mark.parametrize decorator enables parametrization of arguments for a test function. Here is a typical example of a test function that implements checking that a certain input leads to an expected output:\n",
    "\n",
    "```python\n",
    "@pytest.mark.parametrize(\"test_input,expected\", [(\"3+5\", 8), (\"2+4\", 6), (\"6*9\", 42)])\n",
    "def test_eval(test_input, expected):\n",
    "    assert eval(test_input) == expected\n",
    "```\n",
    "\n",
    "5. The simplest way to skip a test function is to mark it with the skip decorator which may be passed an optional reason:\n",
    "\n",
    "```python\n",
    "@pytest.mark.skip(reason=\"no way of currently testing this\")\n",
    "def test_the_unknown():\n",
    "    ...\n",
    "```\n",
    "\n",
    "6. If we know that a test fails, but don't wan't it to be reported (expecetd fail):\n",
    "@pytest.mark.xfail\n",
    "\n",
    "7. Fixtures: used whenver we need to run some code before a test\n",
    "\n",
    "\n",
    "```python\n",
    "@pytest.fixture\n",
    "def my_fixture():\n",
    "    return {'name':'Rafiq'}\n",
    "def test_fixture(my_fixture):\n",
    "    assert my_fixture['name'] == 'rafiq' \n",
    "```"
   ]
  },
  {
   "cell_type": "code",
   "execution_count": null,
   "id": "58d25a44",
   "metadata": {},
   "outputs": [],
   "source": []
  }
 ],
 "metadata": {
  "kernelspec": {
   "display_name": "Python 3 (ipykernel)",
   "language": "python",
   "name": "python3"
  },
  "language_info": {
   "codemirror_mode": {
    "name": "ipython",
    "version": 3
   },
   "file_extension": ".py",
   "mimetype": "text/x-python",
   "name": "python",
   "nbconvert_exporter": "python",
   "pygments_lexer": "ipython3",
   "version": "3.9.7"
  }
 },
 "nbformat": 4,
 "nbformat_minor": 5
}
