{
 "cells": [
  {
   "cell_type": "code",
   "execution_count": null,
   "id": "ff433653",
   "metadata": {},
   "outputs": [],
   "source": [
    "es = Elasticsearch(ELASTIC_HOSTNAME, port=ELASTIC_PORT, timeout=ELASTIC_CONN_TIMEOUT)\n",
    "\n",
    "es.indices.create(index='example_index')\n",
    "\n",
    "doc={\n",
    "    'name':11,\n",
    "    'details':[\n",
    "        {\n",
    "    'age':2.10,\n",
    "    'adult':False},\n",
    "        {\n",
    "            'extra':1\n",
    "        }\n",
    "    ]\n",
    "}\n",
    "res = es.index(index=\"example_index\", id=1, body=doc)\n",
    "print(res['result'])\n",
    "\n",
    "agg = A('terms', field='address.state', size=100)\n",
    "    s.aggs.bucket('by_state', agg)\n",
    "    s = s.execute()\n"
   ]
  },
  {
   "cell_type": "code",
   "execution_count": null,
   "id": "13c1666f",
   "metadata": {},
   "outputs": [],
   "source": [
    "GET schooldigger-schools/_search\n",
    "{\n",
    "  \"size\":0,\n",
    "    \"aggs\": {\n",
    "    \"distinct_state\": {\n",
    "      \"terms\": {\n",
    "        \"field\": \"address.state\",\n",
    "        \"size\": 10000\n",
    "      }\n",
    "    }\n",
    "  }\n",
    "}"
   ]
  },
  {
   "cell_type": "code",
   "execution_count": null,
   "id": "a8803559",
   "metadata": {},
   "outputs": [],
   "source": [
    "# batch_size=10\n",
    "# for i in range(0,len(district_list),batch_size):\n",
    "#     print(\"Toal Imports done: \",i)\n",
    "#     chunk=district_list[i:i+batch_size]\n",
    "#     body = []\n",
    "#     for entry in chunk:\n",
    "#         body.append({'index': {'_id': entry['districtID']}})\n",
    "#         body.append(entry)\n",
    "#     # using bulk to import data\n",
    "#     es.bulk(index=ELASTIC_INDEX_SCHOOLDIGGER_DISTRICTS, body=body)"
   ]
  },
  {
   "cell_type": "code",
   "execution_count": null,
   "id": "efabad16",
   "metadata": {},
   "outputs": [],
   "source": [
    "es = Elasticsearch(ELASTIC_HOSTNAME, port=ELASTIC_PORT, timeout=ELASTIC_CONN_TIMEOUT)\n",
    "s = Search(using=es, index=ELASTIC_INDEX_SCHOOLDIGGER_SCHOOLS).extra(size=10000)\n",
    "must={ 'match': {\n",
    "                        \"rankHistory.year\": 2018\n",
    "                    }\n",
    "                }\n",
    "\n",
    "Query = s.query(Q('bool', must=must))\n",
    "res=Query.execute()\n",
    "\n",
    "es_data = res.to_dict()['hits']['hits']\n",
    "data = [es_obj['_source'] for es_obj in es_data]\n",
    "print(len(data))\n",
    "print(data[0]['rankHistory'])"
   ]
  },
  {
   "cell_type": "code",
   "execution_count": null,
   "id": "8326d08e",
   "metadata": {},
   "outputs": [],
   "source": [
    "POST example_index/_create/3\n",
    "{\n",
    "  \"name\":\"rafiq nazir\",\n",
    "  \"age\":14,\n",
    "  \"adult\":[false],\n",
    "  \"job\":\"Data Scientist\"\n",
    "  \n",
    "}\n",
    "\n",
    "GET example_index\n",
    "\n",
    "GET example_index/_search\n",
    "{\n",
    "    \"query\": {\n",
    "        \"match_all\": {}\n",
    "    }\n",
    "}\n",
    "\n",
    "DELETE example_index\n",
    "\n",
    "PUT example_index\n",
    "{\n",
    "  \"mappings\": {\n",
    "    \"properties\": {\n",
    "      \"name\":{\n",
    "        \"type\": \"text\"\n",
    "      },\n",
    "      \"age\":{\n",
    "        \"type\": \"integer\"\n",
    "      },\n",
    "      \"adult\":{\n",
    "        \"type\": \"boolean\"\n",
    "      }\n",
    "    }\n",
    "  }\n",
    "  \n",
    "}\n",
    "\n",
    "GET schooldigger-districts/_count"
   ]
  },
  {
   "cell_type": "code",
   "execution_count": null,
   "id": "b9a8704d",
   "metadata": {},
   "outputs": [],
   "source": [
    "\n",
    "DELETE example_index\n",
    "\n",
    "PUT example_index\n",
    "{\n",
    "  \"mappings\": {\n",
    "    \"properties\": {\n",
    "      \"name\":{\n",
    "        \"type\": \"text\"\n",
    "      },\n",
    "      \"details\" : {\n",
    "  \"type\" : \"object\",\n",
    "  \"properties\" : {\n",
    "    \"age\" : { \"type\" : \"integer\"},\n",
    "    \"adult\" : { \"type\" : \"boolean\"}\n",
    "  }\n",
    "}\n",
    "    }\n",
    "  }\n",
    "  \n",
    "}"
   ]
  },
  {
   "cell_type": "markdown",
   "id": "c9589efc",
   "metadata": {},
   "source": [
    "## ElasticSearch Automatic Backup"
   ]
  },
  {
   "cell_type": "markdown",
   "id": "21eba141",
   "metadata": {},
   "source": [
    "- Go to kibana\n",
    "- Go to Stack Management\n",
    "- Go to Snapshot & Restore\n",
    "- Create only one repository\n",
    "- One repository can have multiple policies"
   ]
  },
  {
   "cell_type": "code",
   "execution_count": null,
   "id": "57b4a885",
   "metadata": {},
   "outputs": [],
   "source": []
  }
 ],
 "metadata": {
  "kernelspec": {
   "display_name": "Python 3 (ipykernel)",
   "language": "python",
   "name": "python3"
  },
  "language_info": {
   "codemirror_mode": {
    "name": "ipython",
    "version": 3
   },
   "file_extension": ".py",
   "mimetype": "text/x-python",
   "name": "python",
   "nbconvert_exporter": "python",
   "pygments_lexer": "ipython3",
   "version": "3.9.7"
  }
 },
 "nbformat": 4,
 "nbformat_minor": 5
}
