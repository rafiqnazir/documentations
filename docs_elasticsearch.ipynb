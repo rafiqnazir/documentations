{
 "cells": [
  {
   "cell_type": "markdown",
   "metadata": {},
   "source": [
    "- <b>Create ElasticSearch Connection: </b> `es = Elasticsearch(ELASTIC_HOSTNAME, port=ELASTIC_PORT, timeout=ELASTIC_CONN_TIMEOUT)`\n",
    "\n",
    "- <b> Create ES index :</b> `es.indices.create(index='example_index')`\n",
    "\n",
    "- <b> Add Single data to ES:</b>\n",
    "   \n",
    "    ```  python\n",
    "    doc={\n",
    "    'name':11,\n",
    "    'details': [\n",
    "    {\n",
    "    'age':2.10,\n",
    "    'adult':False\n",
    "    },\n",
    "        { \n",
    "            'extra':1 \n",
    "        }\n",
    "    ]\n",
    "}\n",
    "res = es.index(index=\"example_index\", id=1, body=doc)\n",
    "print(res['result'])```\n",
    "\n",
    "- <b> Add Aggregation </b>: <br/>\n",
    "``` json\n",
    "GET my-index/_search\n",
    "{\n",
    "  \"size\":0,\n",
    "    \"aggs\": {\n",
    "    \"distinct_state\": {\n",
    "      \"terms\": {\n",
    "        \"field\": \"address.state\",\n",
    "        \"size\": 10000\n",
    "      }\n",
    "    }\n",
    "  }\n",
    "}\n",
    "```\n",
    "\n",
    "```python\n",
    "agg = A('terms', field='address.state', size=100)\n",
    "    s.aggs.bucket('by_state', agg)\n",
    "    s = s.execute()```"
   ]
  },
  {
   "cell_type": "markdown",
   "metadata": {},
   "source": [
    "#### Querying data using python\n",
    "```python\n",
    "es = Elasticsearch(ELASTIC_HOSTNAME, port=ELASTIC_PORT, timeout=ELASTIC_CONN_TIMEOUT)\n",
    "s = Search(using=es, index=ELASTIC_INDEX).extra(size=10000)\n",
    "must={ 'match': {\n",
    "                        \"address.state\": 'Kashmir'\n",
    "                    }\n",
    "                }\n",
    "\n",
    "Query = s.query(Q('bool', must=must))\n",
    "res=Query.execute()\n",
    "\n",
    "es_data = res.to_dict()['hits']['hits']\n",
    "data = [es_obj['_source'] for es_obj in es_data]```"
   ]
  },
  {
   "cell_type": "markdown",
   "metadata": {},
   "source": [
    "#### Create Mappings\n",
    "``` json\n",
    "PUT example_index\n",
    "{\n",
    "  \"mappings\": {\n",
    "    \"properties\": {\n",
    "      \"name\":{\n",
    "        \"type\": \"text\"\n",
    "      },\n",
    "      \"details\" : {\n",
    "  \"type\" : \"object\",\n",
    "  \"properties\" : {\n",
    "    \"age\" : { \"type\" : \"integer\"},\n",
    "    \"adult\" : { \"type\" : \"boolean\"}\n",
    "  }}}\n",
    "  }\n",
    "}\n",
    "```"
   ]
  },
  {
   "cell_type": "markdown",
   "metadata": {},
   "source": [
    "#### Elastic terms\n",
    "- It is used to search in a list:\n",
    "```json\n",
    "GET /_search\n",
    "{\n",
    "  \"query\": {\n",
    "    \"terms\": {\n",
    "      \"user.id\": [ \"kimchy\", \"elkbee\" ],\n",
    "    }\n",
    "  }\n",
    "}```\n",
    "\n",
    "`\n",
    "qry = Search(using = es_client, index=my_index).query(\"terms\",id=[3,1,22,56]).extra(size=10000)\n",
    "`"
   ]
  },
  {
   "cell_type": "code",
   "execution_count": 2,
   "metadata": {},
   "outputs": [],
   "source": [
    "# batch_size=10\n",
    "# for i in range(0,len(district_list),batch_size):\n",
    "#     print(\"Toal Imports done: \",i)\n",
    "#     chunk=district_list[i:i+batch_size]\n",
    "#     body = []\n",
    "#     for entry in chunk:\n",
    "#         body.append({'index': {'_id': entry['districtID']}})\n",
    "#         body.append(entry)\n",
    "#     # using bulk to import data\n",
    "#     es.bulk(index=ELASTIC_INDEX_, body=body)"
   ]
  },
  {
   "cell_type": "markdown",
   "metadata": {},
   "source": [
    "### ElasticSearch Automatic Backup\n",
    "- Go to kibana\n",
    "- Go to Stack Management\n",
    "- Go to Snapshot & Restore\n",
    "- Create only one repository\n",
    "- One repository can have multiple policies"
   ]
  },
  {
   "cell_type": "code",
   "execution_count": null,
   "metadata": {},
   "outputs": [],
   "source": []
  }
 ],
 "metadata": {
  "kernelspec": {
   "display_name": "Python 3",
   "language": "python",
   "name": "python3"
  },
  "language_info": {
   "codemirror_mode": {
    "name": "ipython",
    "version": 3
   },
   "file_extension": ".py",
   "mimetype": "text/x-python",
   "name": "python",
   "nbconvert_exporter": "python",
   "pygments_lexer": "ipython3",
   "version": "3.7.3"
  }
 },
 "nbformat": 4,
 "nbformat_minor": 5
}
