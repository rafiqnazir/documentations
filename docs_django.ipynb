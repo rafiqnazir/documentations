{
 "cells": [
  {
   "cell_type": "markdown",
   "id": "f145e9ad",
   "metadata": {},
   "source": [
    "# Start a Project \n"
   ]
  },
  {
   "cell_type": "raw",
   "id": "04acd1e1",
   "metadata": {},
   "source": [
    "django-admin startproject project-name"
   ]
  },
  {
   "cell_type": "markdown",
   "id": "699c4107",
   "metadata": {},
   "source": [
    "# Run Server"
   ]
  },
  {
   "cell_type": "raw",
   "id": "6979603e",
   "metadata": {},
   "source": [
    "python manage.py runserver"
   ]
  },
  {
   "cell_type": "markdown",
   "id": "9d5c36d2",
   "metadata": {},
   "source": [
    "# Create App"
   ]
  },
  {
   "cell_type": "raw",
   "id": "1b04c787",
   "metadata": {},
   "source": [
    "python manage.py startapp app-name"
   ]
  },
  {
   "cell_type": "markdown",
   "id": "9e1d69c9",
   "metadata": {},
   "source": [
    "# Django Views & URLs"
   ]
  },
  {
   "cell_type": "markdown",
   "id": "3300e274",
   "metadata": {},
   "source": []
  },
  {
   "cell_type": "raw",
   "id": "ce52c979",
   "metadata": {},
   "source": [
    "1. Every app needs to have a views & urls file. \n",
    "2. The urls.py needs to be created after creating an app.\n",
    "3. urls.py contains the urlpatterns & map the urls to appropriate views.\n",
    "4. In Django, web pages and other content are delivered by views. \n",
    "5. Each view is represented by a Python function (or method, in the case of class-based views).\n",
    "6. Django will choose a view by examining the URL that's requested\n",
    "\n",
    "After creating the app.\n",
    "To use the models of an app in our project, we need to add a reference to its configuration class in the INSTALLED_APPS setting.\n",
    "\n",
    "INSTALLED_APPS = [\n",
    "    'myAppName',\n",
    "    ...\n",
    "    ]"
   ]
  },
  {
   "cell_type": "markdown",
   "id": "2be81aa9",
   "metadata": {},
   "source": [
    "#views.py Example:\n",
    "\n",
    ">```python\n",
    "from django.http import HttpResponse\n",
    "def index(request):\n",
    "    return HttpResponse(\"Hello, world. You're at the polls index.\")\n",
    "#urls.py Example:  \n",
    "\n",
    ">```python\n",
    "from django.urls import path\n",
    "from . import views\n",
    "urlpatterns = [\n",
    "    path('', views.index, name='index'),\n",
    "]\n",
    "\n",
    ">```python\n",
    "#main urls.py Example:\n",
    "from django.contrib import admin\n",
    "from django.urls import include, path\n",
    "urlpatterns = [\n",
    "    path('endpoint1/', include('app-name1.urls')),\n",
    "    path('admin/', admin.site.urls),\n",
    "]\n",
    "#The include() function allows referencing other URLconfs\n",
    "```"
   ]
  },
  {
   "cell_type": "markdown",
   "id": "8d6df685",
   "metadata": {},
   "source": [
    "# Django Models"
   ]
  },
  {
   "cell_type": "markdown",
   "id": "1bcb8d59",
   "metadata": {},
   "source": [
    "\n",
    "#appname/models.py example\n",
    "\n",
    ">```python\n",
    "from django.db import models\n",
    "class Question(models.Model):\n",
    "    question_text = models.CharField(max_length=200)\n",
    "    pub_date = models.DateTimeField('date published')\n",
    "    # how the objects are displayed in backend\n",
    "    def __str__(self):\n",
    "        return self.question_text + self.pub_date\n",
    "        \n",
    ">```python\n",
    "class Choice(models.Model):\n",
    "    question = models.ForeignKey(Question, on_delete=models.CASCADE)\n",
    "    choice_text = models.CharField(max_length=200)\n",
    "    votes = models.IntegerField(default=0)\n",
    "```"
   ]
  },
  {
   "cell_type": "raw",
   "id": "82a220d3",
   "metadata": {},
   "source": [
    "1. By running makemigrations, you’re telling Django that you’ve made some changes to your models\n",
    "and that you’d like the changes to be stored as a migration\n",
    "\n",
    "2. Migrations are how Django stores changes to the models\n",
    "(and thus the database schema) - they’re files on disk & human readable.\n",
    "\n",
    "python manage.py makemigrations appname\n",
    "\n",
    "\n",
    "3. There’s a command that will run the migrations for you and manage your database schema automatically that’s called migrate\n",
    "    \n",
    "python mange.py migrate\n",
    "\n",
    "4. The sqlmigrate command takes migration names and returns their SQL\n",
    "\n",
    "python manage.py sqlmigrate polls 0001"
   ]
  },
  {
   "cell_type": "markdown",
   "id": "f9199bbf",
   "metadata": {},
   "source": [
    "# Create SuperUser/Admin"
   ]
  },
  {
   "cell_type": "raw",
   "id": "4f10d6db",
   "metadata": {},
   "source": [
    "python manage.py createsuperuser"
   ]
  },
  {
   "cell_type": "markdown",
   "id": "5efb1680",
   "metadata": {},
   "source": [
    "### Make the app modifiable in the admin"
   ]
  },
  {
   "cell_type": "raw",
   "id": "dbc5d088",
   "metadata": {},
   "source": [
    "# In app/admin.py, register the models\n",
    "\n",
    "from django.contrib import admin\n",
    "\n",
    "from .models import Question\n",
    "\n",
    "admin.site.register(Question)"
   ]
  },
  {
   "cell_type": "markdown",
   "id": "093a7e14",
   "metadata": {},
   "source": [
    "## Extra about views & urls"
   ]
  },
  {
   "cell_type": "raw",
   "id": "819bbde8",
   "metadata": {},
   "source": [
    "render(request,template_name,context)"
   ]
  },
  {
   "cell_type": "markdown",
   "id": "9caf8d24",
   "metadata": {},
   "source": [
    "### urls.py\n",
    "\n",
    ">```python\n",
    "urlpatterns =[\n",
    "    # ex: /polls/\n",
    "    path('', views.index, name='index'),\n",
    "    # ex: /polls/5/\n",
    "    path('<int:question_id>/', views.detail, name='detail'),\n",
    "    path('<int:question_id>/results/', views.results, name='results'),\n",
    "    ...\n",
    "]\n",
    "\n",
    "### views.py\n",
    ">```python\n",
    "from django.shortcuts import render\n",
    "def detail(request, question_id):\n",
    "    return HttpResponse(f\"You're looking at question {question_id}\"\")\n",
    "def results(request, question_id):\n",
    "    response = \"You're looking at the results of question %s.\"\n",
    "    return HttpResponse(f\"{response} {question_id}\")  \n",
    "    context = {'key': 'value'}\n",
    "    return render(request, 'appname/htmlfile.html', context)\n",
    " ```\n"
   ]
  },
  {
   "cell_type": "markdown",
   "id": "9acea79d",
   "metadata": {},
   "source": [
    "# Change Django Admin Site"
   ]
  },
  {
   "cell_type": "markdown",
   "id": "1eb7c852",
   "metadata": {},
   "source": [
    "### Go to main_project.urls.py\n",
    ">```python\n",
    "admin.site.site_header = \"UMSRA Admin\"\n",
    "admin.site.site_title = \"UMSRA Admin Portal\"\n",
    "admin.site.index_title = \"Welcome to UMSRA Researcher Portal\"\n",
    "\n"
   ]
  },
  {
   "cell_type": "markdown",
   "id": "3d13357a",
   "metadata": {},
   "source": [
    "## Important & Useful Tips:\n",
    "\n",
    "1. Use Blocks & Extends in Jinja\n",
    "2. Use generic views"
   ]
  },
  {
   "cell_type": "markdown",
   "id": "74c1a615",
   "metadata": {},
   "source": [
    "# Django Rest Framework\n",
    "\n",
    ">```python\n",
    "pip install djangorestframework\n",
    "##### after installing djangorestframework, add <mark>'rest_framework'</mark> to INSTALLED_APPS"
   ]
  },
  {
   "cell_type": "markdown",
   "id": "e1d8ae9d",
   "metadata": {},
   "source": [
    ">```python\n",
    "#first import Response Object & api_view decorator\n",
    "from django_restframework.response import Response\n",
    "from django_restframework.decorator import api_view\n",
    "\n"
   ]
  },
  {
   "cell_type": "markdown",
   "id": "cacf53ca",
   "metadata": {},
   "source": [
    ">```python\n",
    "@api_view(['GET'])\n",
    "def getData(request):\n",
    "    person={'name':'Rafiq'}\n",
    "    return Response(person)\n",
    "```\n"
   ]
  },
  {
   "cell_type": "markdown",
   "id": "6aacd25e",
   "metadata": {},
   "source": [
    "# Django Serializers"
   ]
  },
  {
   "cell_type": "markdown",
   "id": "cb058b0b",
   "metadata": {},
   "source": [
    "- > We need to create Serializers, because the Response Object can't natively handle <b><mark>Complex data type such as Django model instances</mark><b>\n",
    "\n",
    "- > Serializers allow complex data such as querysets and model instances to be converted\n",
    "to native Python datatypes that can then be easily rendered into JSON, XML or other content types.\n",
    "\n",
    "- > Serializers also provide deserialization, allowing parsed data to be converted back into complex types,after first validating the incoming data"
   ]
  },
  {
   "cell_type": "markdown",
   "id": "cbe5d595",
   "metadata": {},
   "source": [
    "### Create a Simple Serializer\n",
    "\n",
    "> ``` python\n",
    "from rest_framework import serializers,JSONRenderer\n",
    "class CommentSerializer(serializers.Serializer):\n",
    "    email = serializers.EmailField()\n",
    "    content = serializers.CharField(max_length=200)\n",
    "    created = serializers.DateTimeField()\n",
    "```"
   ]
  },
  {
   "cell_type": "markdown",
   "id": "6a8b3718",
   "metadata": {},
   "source": [
    "### Create Simple Object for Serialization"
   ]
  },
  {
   "cell_type": "markdown",
   "id": "b3818ede",
   "metadata": {},
   "source": [
    ">```python\n",
    "from datetime import datetime\n",
    "class Comment:\n",
    "    def __init__(self, email, content, created=None):\n",
    "        self.email = email\n",
    "        self.content = content\n",
    "        self.created = created or datetime.now()\n",
    "comment = Comment(email='leila@example.com', content='foo bar')\n",
    "```"
   ]
  },
  {
   "cell_type": "markdown",
   "id": "4c300ce9",
   "metadata": {},
   "source": [
    "### Serializing Object"
   ]
  },
  {
   "cell_type": "markdown",
   "id": "b86d2f97",
   "metadata": {},
   "source": [
    ">```python\n",
    "serializer = CommentSerializer(comment)\n",
    "serializer.data\n",
    "#{'email': 'leila@example.com', 'content': 'foo bar', 'created': '2016-01-27T15:17:10.375877'}\n",
    "from rest_framework.renderers import JSONRenderer\n",
    "json = JSONRenderer().render(serializer.data)\n",
    "#b'{\"email\":\"leila@example.com\",\"content\":\"foo bar\",\"created\":\"2016-01-27T15:17:10.375877\"}'\n",
    "```"
   ]
  },
  {
   "cell_type": "markdown",
   "id": "ceaf5a40",
   "metadata": {},
   "source": [
    "## Deserializing objects\n",
    "- Deserialization is similar. First we parse a stream into Python native datatypes...\n",
    "\n",
    ">```python\n",
    "import io\n",
    "from rest_framework.parsers import JSONParser\n",
    "stream = io.BytesIO(json)\n",
    "data = JSONParser().parse(stream)\n",
    "\n",
    "\n",
    "- then we restore those native datatypes into a dictionary of validated data.\n",
    "\n",
    ">```python\n",
    "serializer = CommentSerializer(data=data)\n",
    "serializer.is_valid()\n",
    "#True\n",
    "serializer.validated_data\n",
    "#{'content': 'foo bar', 'email': 'leila@example.com', 'created': datetime.datetime(2012, 08, 22, 16, 20, 09, 822243)}\n"
   ]
  },
  {
   "cell_type": "markdown",
   "id": "3d621b79",
   "metadata": {},
   "source": [
    "# Using Serializers with Models"
   ]
  },
  {
   "cell_type": "markdown",
   "id": "535fb9f4",
   "metadata": {},
   "source": [
    "- If we want to use Serializer for any model which stores, password then we have to update the create method\n",
    "of the serializer else the password will be stored as ir is in the database."
   ]
  },
  {
   "cell_type": "markdown",
   "id": "c00542a0",
   "metadata": {},
   "source": [
    " ```python\n",
    "from django_restframework import serializers\n",
    "from appname.models import MyModel\n",
    "```\n",
    "\n",
    "```python\n",
    "class MySerializer(serializers.ModelSerializer):\n",
    "    class Meta:\n",
    "        model = MyModel\n",
    "        fields='__all__'\n",
    "        # fields = ['field1', 'field2',...]\n",
    "        extra_kwargs={'password':{'write_only':True}}\n",
    "    def create(self, validated_data):\n",
    "        mymodel = MyModel(\n",
    "            email=validated_data['email'],\n",
    "            username=validated_data['username'],\n",
    "            gender= validated_data['dob']\n",
    "        )\n",
    "        mymodel.set_password(validated_data['password'])\n",
    "        mymodel.save()\n",
    "        return mymodel\n",
    "```\n",
    "\n",
    "\n"
   ]
  },
  {
   "cell_type": "markdown",
   "id": "9442a23f",
   "metadata": {},
   "source": [
    "## Django Use Serializer with the rest api"
   ]
  },
  {
   "cell_type": "markdown",
   "id": "48fe2208",
   "metadata": {},
   "source": [
    "```python\n",
    "from django_restframework import Response\n",
    "from django_restframework.decorators import api_view\n",
    "from appname.models import MyModel\n",
    "from appname.serializers import MySerializer\n",
    "```\n",
    "\n",
    "```python\n",
    "@api_view(['GET'])\n",
    "def getData(request):\n",
    "    objs=MyModel.Objects.all()\n",
    "    serializer=MySerializer(objs,many=True)\n",
    "    return Response(serializer.data)\n",
    "    \n",
    "    \n",
    "@api_view(['POST'])\n",
    "def addData(request):\n",
    "    serializer=MySerializer(data=request.data)\n",
    "    if serializer.is_valid():\n",
    "        # if valid data, save object\n",
    "        serializer.save()\n",
    "        return Response(serializer.data,status=status.HTTP_201_CREATED)\n",
    "    return Response(serializer.errors,status=status.HTTP_400_BAD_REQUEST)\n",
    "```"
   ]
  },
  {
   "cell_type": "markdown",
   "id": "1d4f2c6d",
   "metadata": {},
   "source": [
    "## Viewset\n",
    "\n",
    "> - Django REST framework allows us to combine the logic for a set of related views in a single class, called a ViewSet.\n",
    "\n",
    "> - A ViewSet class is simply a type of class-based View, that does not provide any method handlers such as .get() or .post(), and instead provides actions such as .list() and .create()\n",
    "\n",
    "> - we will register the viewset with a router, and allow the urlconf to be automatically generated."
   ]
  },
  {
   "cell_type": "markdown",
   "id": "d1368cd7",
   "metadata": {},
   "source": [
    " ```python\n",
    "from myapp.views import MyViewSet\n",
    "from rest_framework.routers import DefaultRouter\n",
    "\n",
    "router = DefaultRouter()\n",
    "#register the viewsets\n",
    "router.register(r'url_prefix', MyViewSet, basename='MyViewSet')\n",
    "urlpatterns = [path('',include(router.urls)), ...]\n",
    "# urlpatterns += path.urls\n",
    "```"
   ]
  },
  {
   "cell_type": "markdown",
   "id": "c396dd60",
   "metadata": {},
   "source": [
    "## Create Viewset"
   ]
  },
  {
   "cell_type": "markdown",
   "id": "10b9e45d",
   "metadata": {},
   "source": [
    "### Use Inbuilt viewset which will create the basic tasks itself like: get,put\n",
    "```python\n",
    "class MyViewSet(viewsets.ModelViewSet):\n",
    "    # define a queryset & Serializer\n",
    "    queryset = MyModel.objects.all()\n",
    "    serializer_class = MySerializer  \n",
    "    # overrite create, to show custom message\n",
    "    def create(self,request,*args,**kwargs):\n",
    "        response=super().create(request,args,kwargs)\n",
    "        if response.status_code == 201:\n",
    "            return Response({'message':'User Created'},status=201)\n",
    "        else:\n",
    "            return response\n",
    "        \n",
    "        "
   ]
  },
  {
   "cell_type": "markdown",
   "id": "b1bfedac",
   "metadata": {},
   "source": [
    "# Django Knox Authentication\n",
    "\n",
    "> pip install django-rest-knox\n",
    "\n",
    "> INSTALLED_APPS = (\n",
    "  ...\n",
    "  'rest_framework',\n",
    "  'knox',\n",
    "  ...\n",
    ")\n",
    "\n",
    ">REST_FRAMEWORK = {\n",
    "    'DEFAULT_AUTHENTICATION_CLASSES': ('knox.auth.TokenAuthentication',),\n",
    "    ...\n",
    "}\n"
   ]
  },
  {
   "cell_type": "markdown",
   "id": "329b4e7a",
   "metadata": {},
   "source": [
    ">```python\n",
    "from rest_framework.permissions import IsAuthenticated\n",
    "from rest_framework.response import Response\n",
    "from rest_framework.views import APIView\n",
    "from knox.auth import TokenAuthentication\n",
    "from knox.views import LoginView as KnoxLoginView\n",
    "from rest_framework.authtoken.serializers import AuthTokenSerializer\n",
    "from django.contrib.auth import login\n",
    "from rest_framework import permissions\n",
    "class LoginView(KnoxLoginView):\n",
    "    permission_classes = (permissions.AllowAny,)\n",
    "    def post(self, request, format=None):\n",
    "        serializer = AuthTokenSerializer(data=request.data)\n",
    "        serializer.is_valid(raise_exception=True)\n",
    "        user = serializer.validated_data['user']\n",
    "        login(request, user)\n",
    "        return super(LoginView, self).post(request, format=None)\n",
    "```"
   ]
  },
  {
   "cell_type": "markdown",
   "id": "b2adfd5b",
   "metadata": {},
   "source": [
    "## AWS S3 with django"
   ]
  },
  {
   "cell_type": "markdown",
   "id": "8b3a67df",
   "metadata": {},
   "source": [
    "### Change Settings.py\n",
    "- AWS_ACCESS_KEY_ID =os.environ.get('AWS_ACCESS_KEY_ID')\n",
    "- AWS_SECRET_ACCESS_KEY = os.environ.get('AWS_SECRET_ACCESS_KEY')\n",
    "- AWS_STORAGE_BUCKET_NAME=os.environ.get('AWS_STORAGE_BUCKET_NAME')\n",
    "\n",
    "- AWS_S3_FILE_OVERWRITE = False\n",
    "- AWS_DEFAULT_ACL=None\n",
    "- DEFAULT_FILE_STORAGE= 'storages.backends.s3boto3.S3Boto3Storage' \n",
    "<br> </br>\n",
    "\n",
    "- > Install 'django-storages','boto3' and add ''storages' to settings.py \n",
    "<br> </br>\n",
    " >To allow django-admin collectstatic to automatically put the static files in your bucket set the following in settings.py:\n",
    "<br> </br>\n",
    " > STATICFILES_STORAGE = 'storages.backends.s3boto3.S3StaticStorage'\n",
    "\n",
    "\n",
    "- models.FileField(upload_to=folder_name_s3)"
   ]
  },
  {
   "cell_type": "markdown",
   "id": "b9e82bce",
   "metadata": {},
   "source": []
  }
 ],
 "metadata": {
  "kernelspec": {
   "display_name": "Python 3 (ipykernel)",
   "language": "python",
   "name": "python3"
  },
  "language_info": {
   "codemirror_mode": {
    "name": "ipython",
    "version": 3
   },
   "file_extension": ".py",
   "mimetype": "text/x-python",
   "name": "python",
   "nbconvert_exporter": "python",
   "pygments_lexer": "ipython3",
   "version": "3.9.7"
  }
 },
 "nbformat": 4,
 "nbformat_minor": 5
}
