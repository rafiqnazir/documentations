{
 "cells": [
  {
   "cell_type": "markdown",
   "metadata": {},
   "source": [
    "#### Important Points\n",
    "- VM has its own but docker doen't ahve its own kernel."
   ]
  },
  {
   "cell_type": "markdown",
   "metadata": {},
   "source": [
    "#### Docker Container & image\n",
    "- Image is a set of layers\n",
    "- Base of most of the images is linux based layer, because small in size.\n",
    "- On top of base image, we will have application layer\n",
    "- An instance of an image is called a container.\n",
    "\n",
    ">- `docker images` we can see all our images with this command. \n",
    ">- `docker ps` we can see the running containers with  (and we can see all containers with `docker ps -a`).\n",
    "\n",
    "- To start a docker container, use `docker run application_name:version_number` , it will first look for the image locally then it will look for it on the docker public images."
   ]
  },
  {
   "cell_type": "markdown",
   "metadata": {},
   "source": [
    "#### Main Docker Commands:\n",
    "- `docker pull application_name:version_number` : pulls the image from docker.\n",
    "> e.g: docker pull myregistry.local:5000/testing/test-image :  pulls the testing/test-image image from a local registry listening on port 5000 \n",
    "\n",
    "- `docker images` we can see all our images with this command. \n",
    "- `docker ps` we can see the running containers with  (and we can see all containers with `docker ps -a`).\n",
    "- `docker run application_name:version_number` To start a docker container. It combines docker pull & start.\n",
    "> e.g: docker run -d redis: will run redis image in detach mode . It will return the id of the container.                  `docker stop id, docker start id`\n",
    "<br/>`docker run -d -p6001:6379 --name redis_container redis:4.1.2`\n",
    "- `docker run -pHostPort:ContainerPort ApplicationName`: Port Binding, we can have two different host ports binded to same docker container port.\n",
    "\n",
    "- `docker logs ContainerName` or `docker logs ContainerId`: Shows the logs produced by the container, useful for debugging a container.\n",
    "\n",
    "- `docker-compose congig.yaml`: create a container using a yaml file\n",
    "- `docker build -t imageName location`\n",
    "\n",
    "> use `.` for current location\n",
    "\n"
   ]
  },
  {
   "cell_type": "markdown",
   "metadata": {},
   "source": [
    "#### Check a container\n",
    "- `docker exec -it ContainerId ./bin/sh` : To get a terminal of the container\n",
    "> `it`: Interactive Terminal <br/>\n",
    "we can print environment variables using `env` <br/>\n",
    "`exit` to exit a terminal\n"
   ]
  },
  {
   "cell_type": "markdown",
   "metadata": {},
   "source": [
    "### Create a docker file\n",
    "- dockerfile -> image -> container\n",
    "- dockerfile: blueprint for creating images\n",
    "#### Simple Dockerfile structure\n",
    "` \n",
    "FROM BaseImage \n",
    "ADD source destination\n",
    "RUN pip install module1 module2\n",
    "CMD ['cmd1','cmd2']\n",
    "`\n",
    "<br/>\n",
    "\n",
    "`\n",
    "e.g: \n",
    "FROM python:3.8\n",
    "add myfile.py .\n",
    "add requirements.txt .\n",
    "CMD ['python' , './main.py']\n",
    "`\n",
    "<br/>\n",
    "\n",
    "#### Dockerfile organize files in a better way\n",
    "\n",
    "`\n",
    "FROM python:3.8 \n",
    "WORKDIR /dirName\n",
    "COPY requirements.txt .\n",
    "RUN pip install -r requirements.txt\n",
    "COPY ./mainFolder ./mainFolder\n",
    "CMD [\"python\",\"./mainFolder/file.py\"]\n",
    "`"
   ]
  },
  {
   "cell_type": "markdown",
   "metadata": {},
   "source": [
    "#### Docker-Compose yaml file\n",
    "- Create docker-compose.yaml file\n",
    "\n",
    "\n",
    "\n",
    "`\n",
    "version:\"3.5\"\n",
    "services:\n",
    "    service1:\n",
    "        build:\n",
    "            dockerfile: ./dockerFolder/mydockerfile\n",
    "            context: .  , main directory where to find the docker file, source code & everything\n",
    "        ports:\n",
    "        '-' 5000 : 5000\n",
    "        environment:\n",
    "            my_var1 = var1\n",
    "        `\n",
    "        \n",
    "        \n",
    "- use `docker-compose -f yaml_file build serviceName` to build the image, & use up python to run tha image\n",
    "\n",
    "- To reuse environmental vars use:  <br/>\n",
    "` extends:\n",
    "    service: envirnmnetService\n",
    "`\n",
    "\n",
    "`environmentService is the service which contains common env variables`"
   ]
  },
  {
   "cell_type": "markdown",
   "metadata": {},
   "source": [
    "#### Kubectl basic commands\n",
    "- kubectl create -f location-to-yaml-file\n",
    "- kubectl apply -f location-to-yaml-file\n",
    "- kubectl delete -f location-to-yaml-file\n",
    "- kubectl get pods/jobs\n",
    "- kubectl describe pod PodName\n",
    "- kubectl logs Podname\n",
    "- The command `minikube docker-env` returns a set of Bash environment variable exports to configure your local environment to re-use the Docker daemon inside the Minikube instance\n",
    "- The command `kubectl create cronjob my_cron --image=my_image --schedule=\"* /10 * * * *\" --dry-run=client -o=yaml` will create yaml outpuy . `To output it to a yaml file add > file_name.yaml `\n",
    "\n",
    "\n"
   ]
  },
  {
   "cell_type": "markdown",
   "metadata": {},
   "source": [
    "#### Kuberenetes Yaml file\n",
    "`\n",
    "apiVersion: v1\n",
    "kind: Pod/Job/Production\n",
    "metadata:\n",
    "    name: myPod\n",
    "spec:\n",
    "    containers:\n",
    "    '-' name: mycontainer\n",
    "      image; dockerImageName\n",
    "      imagePullPolicy: <b>Always</b> , for getting the latest image, <b>Never</b> for getting cached image & aslo for local images`\n",
    "\n",
    "\n",
    "`minikube docker-env , to get the minikube internal docker registry`"
   ]
  },
  {
   "cell_type": "code",
   "execution_count": null,
   "metadata": {},
   "outputs": [],
   "source": []
  }
 ],
 "metadata": {
  "kernelspec": {
   "display_name": "Python 3",
   "language": "python",
   "name": "python3"
  },
  "language_info": {
   "codemirror_mode": {
    "name": "ipython",
    "version": 3
   },
   "file_extension": ".py",
   "mimetype": "text/x-python",
   "name": "python",
   "nbconvert_exporter": "python",
   "pygments_lexer": "ipython3",
   "version": "3.7.3"
  }
 },
 "nbformat": 4,
 "nbformat_minor": 2
}
