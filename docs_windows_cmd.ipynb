{
 "cells": [
  {
   "cell_type": "markdown",
   "id": "e8e0f48d",
   "metadata": {},
   "source": [
    "```yml\n",
    "- 'mkdir': To create directory\n",
    "- 'set my_var=value': To Create an env variable similar to `export` in mac/linux\n",
    "- 'echo %ENV_VAR%': To check env variable\n",
    "- 'cd > my_file.py': To create a file\n",
    "- 'dir': To list all files in the fiolder\n",
    "```"
   ]
  },
  {
   "cell_type": "markdown",
   "id": "cf30fd6d",
   "metadata": {},
   "source": [
    "```yml\n",
    "- \"set PYTHONPATH = root_folder \" To Set main root\n",
    "```"
   ]
  },
  {
   "cell_type": "code",
   "execution_count": null,
   "id": "246c3c71",
   "metadata": {},
   "outputs": [],
   "source": []
  }
 ],
 "metadata": {
  "kernelspec": {
   "display_name": "Python 3 (ipykernel)",
   "language": "python",
   "name": "python3"
  },
  "language_info": {
   "codemirror_mode": {
    "name": "ipython",
    "version": 3
   },
   "file_extension": ".py",
   "mimetype": "text/x-python",
   "name": "python",
   "nbconvert_exporter": "python",
   "pygments_lexer": "ipython3",
   "version": "3.9.7"
  }
 },
 "nbformat": 4,
 "nbformat_minor": 5
}
